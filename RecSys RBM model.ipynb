{
 "cells": [
  {
   "cell_type": "code",
   "execution_count": 360,
   "metadata": {},
   "outputs": [],
   "source": [
    "import numpy as np\n",
    "from sklearn.neural_network import BernoulliRBM\n",
    "import numpy as np\n",
    "import matplotlib.pyplot as plt\n",
    "%matplotlib inline"
   ]
  },
  {
   "cell_type": "markdown",
   "metadata": {},
   "source": [
    "# Restricted Boltzmann Machine (SKlearn version)"
   ]
  },
  {
   "cell_type": "markdown",
   "metadata": {},
   "source": [
    "Let's build an RBM model using SciKitLearn's implementation of RBMs.  We'll fit a binarized version of our MovieLens rating data, split into training and test.  \n",
    "\n",
    "The RBM model consists of a \"visible\" layer (the variables we want to model -- here, X[j,i], the binary \"user j liked movie i\" indicator), and a \"hidden\" layer, which are the latent variables used to model correlations in the distribution of X.  So, for example, if $H_1=1$, it might cause certain movies to be more likely to be liked, and others to be less likely.  We never observe the $H$ values, so to use this model for prediction, observing some $X$ values lets us infer the hidden $H$ values for that user, which lets us predict the unobserved $X$ values.\n",
    "\n",
    "First, let's construct the data set we'll use:"
   ]
  },
  {
   "cell_type": "code",
   "execution_count": 633,
   "metadata": {},
   "outputs": [],
   "source": [
    "# names of 500 movies to be rated:\n",
    "with open('mlens-small/top-names.txt') as f: names = f.read().split('\\n')\n",
    "    \n",
    "# ratings = int(2000 x 500) ratings of 500 movies by 2000 people; -1 = not rated\n",
    "ratings = np.loadtxt('mlens-small/top-ratings-missing.txt')\n",
    "nUsers,nMovies = ratings.shape"
   ]
  },
  {
   "cell_type": "code",
   "execution_count": 634,
   "metadata": {},
   "outputs": [],
   "source": [
    "X = (ratings >= 7).astype(int);   # did each user like the movie?  (binary)\n",
    "# (use any threshold you like, but \"7+\" might be \"worth recommending\"?)"
   ]
  },
  {
   "cell_type": "code",
   "execution_count": 682,
   "metadata": {},
   "outputs": [],
   "source": [
    "# Let's split into training & test:\n",
    "np.random.seed(0)\n",
    "pi = np.random.permutation(nUsers)\n",
    "iTr,iTe = pi[:int(nUsers*.9)], pi[int(nUsers*.9):]\n",
    "Xtr,Xte = X[iTr,:],X[iTe,:]"
   ]
  },
  {
   "cell_type": "code",
   "execution_count": 678,
   "metadata": {},
   "outputs": [
    {
     "data": {
      "text/plain": [
       "(1600, 500)"
      ]
     },
     "execution_count": 678,
     "metadata": {},
     "output_type": "execute_result"
    }
   ],
   "source": [
    "Xtr.shape"
   ]
  },
  {
   "cell_type": "markdown",
   "metadata": {},
   "source": [
    "For the test points, we want to conceal some of the values.  We will use the non-missing values of each X[j,:] to estimate the missing entries (which we indicate with \"-1\"):"
   ]
  },
  {
   "cell_type": "code",
   "execution_count": 683,
   "metadata": {},
   "outputs": [],
   "source": [
    "# for a prediction task, censor some entries in X[iTe,:]:\n",
    "Xte_missing = np.copy(Xte)\n",
    "Xte_missing[ np.random.random_sample(Xte.shape)<=.3 ] = -1  # discard 30% of observations\n",
    "\n",
    "# Now, we can measure the likelihood of Xte,\n",
    "# or predict Xte given Xte_missing"
   ]
  },
  {
   "cell_type": "code",
   "execution_count": null,
   "metadata": {},
   "outputs": [],
   "source": []
  },
  {
   "cell_type": "markdown",
   "metadata": {},
   "source": [
    "### RBM model\n",
    "\n",
    "We can declare an RBM model and then fit it to our training data pretty easily:"
   ]
  },
  {
   "cell_type": "code",
   "execution_count": 671,
   "metadata": {},
   "outputs": [],
   "source": [
    "# rbm = BernoulliRBM(n_components=16, learning_rate=0.1, batch_size=10, n_iter=100, verbose=0, random_state=0)\n",
    "rbm = BernoulliRBM(random_state=0, verbose=0)\n",
    "rbm.learning_rate = 0.06\n",
    "rbm.n_iter = 10\n",
    "rbm.n_components = 100\n"
   ]
  },
  {
   "cell_type": "code",
   "execution_count": 672,
   "metadata": {},
   "outputs": [
    {
     "data": {
      "text/plain": [
       "BernoulliRBM(learning_rate=0.06, n_components=100, random_state=0)"
      ]
     },
     "execution_count": 672,
     "metadata": {},
     "output_type": "execute_result"
    }
   ],
   "source": [
    "rbm.fit(Xtr)"
   ]
  },
  {
   "cell_type": "markdown",
   "metadata": {},
   "source": [
    "### Measuring likelihood:"
   ]
  },
  {
   "cell_type": "markdown",
   "metadata": {},
   "source": [
    "The RBM is a large, undirected model, and so not a normalized probability distribution.  To calculate the actual log-likelihood of a data set, we would need to evaluate the (log) normalization constant $\\ln Z$.  In general, this can be quite computationally difficult, and so we either subsitute an *estimate* of $\\ln Z$, or a surrogate (approximation) to the likelihood function itself.\n",
    "\n",
    "A common substitute for RBMs is the *pseudo-likelihood* of the model, most typically a stochastic (Monte Carlo) estimate of the pseudo-likelihood.  In the scikit version, this is called \"score_samples\":"
   ]
  },
  {
   "cell_type": "code",
   "execution_count": 593,
   "metadata": {},
   "outputs": [
    {
     "name": "stdout",
     "output_type": "stream",
     "text": [
      "-249.8931464135897\n"
     ]
    }
   ],
   "source": [
    "print(rbm.score_samples(Xte).mean())"
   ]
  },
  {
   "cell_type": "markdown",
   "metadata": {},
   "source": [
    "If we train with a more complex class of distributions (say, with more hidden variables), we can potentially fit the data better (although we may also begin to overfit!):"
   ]
  },
  {
   "cell_type": "code",
   "execution_count": 684,
   "metadata": {},
   "outputs": [
    {
     "name": "stdout",
     "output_type": "stream",
     "text": [
      "-240.0737634274568\n"
     ]
    }
   ],
   "source": [
    "rbm = BernoulliRBM(n_components=512, learning_rate=0.006, batch_size=10, n_iter=200, verbose=0, random_state=0)\n",
    "rbm.fit(Xtr)\n",
    "print(rbm.score_samples(Xte).mean())"
   ]
  },
  {
   "cell_type": "markdown",
   "metadata": {},
   "source": [
    "### Predicting missing data:"
   ]
  },
  {
   "cell_type": "markdown",
   "metadata": {},
   "source": [
    "A basic RBM is not a classic supervised predictor, in which we measure \"x\" and predict \"y\" -- instead, it is a generative model, in which we learn a distribution $p(x)$.  We can, however, use this model to make predictions, in a fairly flexible way.  Suppose we observe some values of the vector $x$, but not others.  We can then use the conditional distribution $p(X_{unobs} | X_{obs}=x_{obs})$ to predict the unobserved variables given the value of the observed ones.  Typically, we would like to compute the most likely value of $X_{unobs}$ (the maximum a posteriori or MAP estimate), or their expected value (the mean estimate).  Here, let's do something a bit simpler and just draw a sample from $p(X_{unobs} | X_{obs}=x_{obs})$, which we can do (approximately) using Gibbs sampling:"
   ]
  },
  {
   "cell_type": "code",
   "execution_count": 665,
   "metadata": {},
   "outputs": [],
   "source": [
    "def sample_missing(rbm, Xobs, nIter=10):\n",
    "    Xhat = np.copy(Xobs)\n",
    "    Xhat[Xhat<0] = .5         # should probably initialize this to random 0/1s\n",
    "\n",
    "    # Do Gibbs sampling but lock the observed vars to their known values:\n",
    "    for it in range(nIter):\n",
    "        Xhat=rbm.gibbs(Xhat)               # resample visible layer\n",
    "        Xhat[Xobs >= 0] = Xobs[Xobs >= 0]  # keep observed values fixed\n",
    "    return Xhat\n",
    "\n",
    "def sample_missing_mean(rbm, Xobs, nIter=10):\n",
    "    Xhat = np.copy(Xobs)\n",
    "    print(np.where(Xhat[Xhat <0]))\n",
    "    Xhat[Xhat<0] = np.random.random_sample()<=.5        # should probably initialize this to random 0/1s\n",
    "    # Do Gibbs sampling but lock the observed vars to their known values:\n",
    "    Xhat_all = []\n",
    "    xtemp = np.zeros(Xobs.shape)\n",
    "    for it in range(nIter):\n",
    "        Xhat=rbm.gibbs(Xhat)               # resample visible layer\n",
    "        Xhat[Xobs >= 0] = Xobs[Xobs >= 0]  # keep observed values fixed\n",
    "        Xhat_all.append(Xhat)\n",
    "    for i in Xhat_all:\n",
    "        xtemp += i\n",
    "    xtemp = (xtemp > 0.5).astype(int);\n",
    "    Xhat[np.where(xtemp > 0.5) ] = 1\n",
    "    return Xhat"
   ]
  },
  {
   "cell_type": "code",
   "execution_count": null,
   "metadata": {},
   "outputs": [],
   "source": []
  },
  {
   "cell_type": "code",
   "execution_count": 685,
   "metadata": {},
   "outputs": [
    {
     "name": "stdout",
     "output_type": "stream",
     "text": [
      "Error rate: 0.28567631325381265\n"
     ]
    }
   ],
   "source": [
    "Xte_hat1 = sample_missing(rbm,Xte_missing, nIter=100);\n",
    "\n",
    "print('Error rate:', np.mean( (Xte_hat1!=Xte)[Xte_missing<0] ) )\n"
   ]
  },
  {
   "cell_type": "code",
   "execution_count": 667,
   "metadata": {},
   "outputs": [
    {
     "data": {
      "text/plain": [
       "(0.9081605784472764, 0.914006, 0.8887876861033299, 0.868056798854176, 0.085994)"
      ]
     },
     "execution_count": 667,
     "metadata": {},
     "output_type": "execute_result"
    }
   ],
   "source": [
    "roc_auc = metrics.roc_auc_score(Xte.reshape(-1,1),Xte_hat1.reshape(-1,1))\n",
    "recall  = metrics.recall_score(Xte.reshape(-1,1),Xte_hat1.reshape(-1,1))\n",
    "auc = metrics.accuracy_score(Xte.reshape(-1,1),Xte_hat1.reshape(-1,1))\n",
    "ap = metrics.precision_score(Xte.reshape(-1,1),Xte_hat1.reshape(-1,1))\n",
    "mse = metrics.mean_squared_error(Xte.reshape(-1,1),Xte_hat1.reshape(-1,1))\n",
    "roc_auc, auc, recall, ap, mse"
   ]
  },
  {
   "cell_type": "code",
   "execution_count": 686,
   "metadata": {},
   "outputs": [
    {
     "name": "stderr",
     "output_type": "stream",
     "text": [
      "100%|██████████| 9/9 [17:10<00:00, 114.48s/it]\n"
     ]
    },
    {
     "data": {
      "text/plain": [
       "[array([[ True, False,  True, ...,  True, False, False],\n",
       "        [ True, False,  True, ..., False, False, False],\n",
       "        [ True,  True,  True, ..., False, False, False],\n",
       "        ...,\n",
       "        [ True,  True,  True, ...,  True, False, False],\n",
       "        [False,  True, False, ...,  True,  True, False],\n",
       "        [False,  True, False, ..., False, False, False]]),\n",
       " array([[ True,  True,  True, ...,  True, False, False],\n",
       "        [ True,  True,  True, ..., False, False, False],\n",
       "        [ True,  True,  True, ..., False, False, False],\n",
       "        ...,\n",
       "        [ True,  True,  True, ...,  True, False, False],\n",
       "        [False,  True, False, ...,  True,  True, False],\n",
       "        [False,  True, False, ..., False, False, False]]),\n",
       " array([[ True, False,  True, ...,  True, False, False],\n",
       "        [ True,  True,  True, ..., False, False, False],\n",
       "        [ True,  True,  True, ..., False, False, False],\n",
       "        ...,\n",
       "        [ True,  True,  True, ...,  True, False, False],\n",
       "        [False,  True, False, ..., False,  True, False],\n",
       "        [False,  True, False, ..., False, False, False]]),\n",
       " array([[ True, False,  True, ...,  True, False, False],\n",
       "        [ True,  True,  True, ..., False,  True, False],\n",
       "        [ True,  True,  True, ..., False, False, False],\n",
       "        ...,\n",
       "        [ True,  True,  True, ...,  True, False, False],\n",
       "        [False,  True, False, ..., False,  True, False],\n",
       "        [False,  True, False, ..., False, False, False]]),\n",
       " array([[ True,  True,  True, ...,  True, False, False],\n",
       "        [ True,  True,  True, ..., False, False, False],\n",
       "        [ True,  True,  True, ..., False, False, False],\n",
       "        ...,\n",
       "        [ True,  True,  True, ...,  True, False, False],\n",
       "        [False,  True, False, ..., False,  True, False],\n",
       "        [ True,  True,  True, ..., False, False, False]]),\n",
       " array([[ True,  True,  True, ..., False, False, False],\n",
       "        [ True,  True,  True, ..., False, False, False],\n",
       "        [ True,  True,  True, ..., False, False, False],\n",
       "        ...,\n",
       "        [ True,  True,  True, ...,  True, False, False],\n",
       "        [False,  True, False, ..., False,  True, False],\n",
       "        [ True,  True, False, ..., False, False, False]]),\n",
       " array([[ True,  True,  True, ..., False, False, False],\n",
       "        [ True,  True,  True, ..., False,  True, False],\n",
       "        [ True,  True,  True, ..., False, False, False],\n",
       "        ...,\n",
       "        [ True,  True,  True, ...,  True, False,  True],\n",
       "        [ True,  True, False, ..., False,  True, False],\n",
       "        [False,  True,  True, ..., False, False, False]]),\n",
       " array([[ True,  True,  True, ..., False, False, False],\n",
       "        [ True,  True,  True, ..., False, False, False],\n",
       "        [ True,  True,  True, ..., False, False, False],\n",
       "        ...,\n",
       "        [ True,  True,  True, ...,  True, False,  True],\n",
       "        [ True,  True,  True, ..., False,  True, False],\n",
       "        [False,  True,  True, ..., False, False, False]]),\n",
       " array([[ True,  True,  True, ..., False, False, False],\n",
       "        [False,  True,  True, ..., False, False, False],\n",
       "        [False, False, False, ..., False, False, False],\n",
       "        ...,\n",
       "        [ True,  True,  True, ..., False, False,  True],\n",
       "        [ True,  True,  True, ..., False,  True, False],\n",
       "        [False,  True,  True, ..., False,  True, False]])]"
      ]
     },
     "execution_count": 686,
     "metadata": {},
     "output_type": "execute_result"
    }
   ],
   "source": [
    "ratio = []\n",
    "for i in trange(1,10):\n",
    "    temp = i * .1\n",
    "    np.random.seed(0)\n",
    "    pi = np.random.permutation(nUsers)\n",
    "    iTr,iTe = pi[:int(nUsers*.7)], pi[int(nUsers*.7):]\n",
    "    Xtr,Xte = X[iTr,:],X[iTe,:]\n",
    "    Xte_missing = np.copy(Xte)\n",
    "    Xte_missing[ np.random.random_sample(Xte.shape)<= 0.3 ] = -1\n",
    "    rbm = BernoulliRBM(n_components=512, learning_rate=0.006, batch_size=10, n_iter=200, verbose=0, random_state=0)\n",
    "    rbm.fit(Xtr)\n",
    "    Xte_hat1 = sample_missing(rbm,Xte_missing, nIter=100)\n",
    "    ratio.append(Xte_hat1)\n",
    "ratio"
   ]
  },
  {
   "cell_type": "code",
   "execution_count": 687,
   "metadata": {},
   "outputs": [
    {
     "data": {
      "text/plain": [
       "[0.030816059010420137,\n",
       " 0.06266154176572093,\n",
       " 0.0944514800743555,\n",
       " 0.1266746650669866,\n",
       " 0.16145289460626394,\n",
       " 0.19704947899309028,\n",
       " 0.23722292578521334,\n",
       " 0.2843949728572804,\n",
       " 0.3497744895465351]"
      ]
     },
     "execution_count": 687,
     "metadata": {},
     "output_type": "execute_result"
    }
   ],
   "source": [
    "[np.mean( (i!=Xte)[Xte_missing<0] ) for i in ratio]"
   ]
  },
  {
   "cell_type": "code",
   "execution_count": 693,
   "metadata": {},
   "outputs": [
    {
     "data": {
      "image/png": "[encoded data removed]",
      "text/plain": [
       "<Figure size 432x288 with 1 Axes>"
      ]
     },
     "metadata": {
      "needs_background": "light"
     },
     "output_type": "display_data"
    }
   ],
   "source": [
    "plt.plot( [9,8,7,6,5,4,3,2,1], [np.mean( (i!=Xte)[Xte_missing<0] ) for i in ratio] )\n",
    "plt.xlabel(\"dropping ratio\")\n",
    "plt.show()"
   ]
  },
  {
   "cell_type": "markdown",
   "metadata": {},
   "source": [
    "We could probably improve this a bit if we used the mean estimate, by saving the *average* of the Xhat values over the Gibbs sampling procedure."
   ]
  },
  {
   "cell_type": "code",
   "execution_count": 525,
   "metadata": {},
   "outputs": [],
   "source": [
    "def train_and_test(n_components, learning_rate, batch_size, n_iter):\n",
    "    best_rbm = BernoulliRBM(verbose=0, random_state=0)\n",
    "    greedy = 1000\n",
    "    rbm = BernoulliRBM(n_components=n_components, learning_rate=learning_rate, batch_size=batch_size, n_iter=n_iter, verbose=0, random_state=0)\n",
    "    rbm.fit(Xtr)\n",
    "    Xte_hat1 = sample_missing(rbm,Xte_missing, nIter=100)\n",
    "    temp_greedy = metrics.mean_squared_error(Xte.reshape(-1,1),Xte_hat1.reshape(-1,1))\n",
    "    if temp_greedy < greedy:\n",
    "        best_rbm = rbm\n",
    "        greedy = temp_greedy \n",
    "    mse_hist.append(temp_greedy)\n",
    "    return best_rbm"
   ]
  },
  {
   "cell_type": "code",
   "execution_count": 526,
   "metadata": {},
   "outputs": [
    {
     "name": "stderr",
     "output_type": "stream",
     "text": [
      "100%|██████████| 200/200 [18:14<00:00,  5.47s/it]\n"
     ]
    }
   ],
   "source": [
    "rbm_hist = []\n",
    "mse_hist = []\n",
    "best_rbm = BernoulliRBM(verbose=0, random_state=0)\n",
    "from tqdm import trange\n",
    "for nIter in trange(200):\n",
    "    train_and_test(16, 0.001, 10, nIter+ 1)"
   ]
  },
  {
   "cell_type": "code",
   "execution_count": 527,
   "metadata": {},
   "outputs": [
    {
     "data": {
      "text/plain": [
       "BernoulliRBM(random_state=0)"
      ]
     },
     "execution_count": 527,
     "metadata": {},
     "output_type": "execute_result"
    }
   ],
   "source": [
    "best_rbm"
   ]
  },
  {
   "cell_type": "code",
   "execution_count": 528,
   "metadata": {},
   "outputs": [
    {
     "data": {
      "image/png": "[encoded data removed]",
      "text/plain": [
       "<Figure size 432x288 with 1 Axes>"
      ]
     },
     "metadata": {
      "needs_background": "light"
     },
     "output_type": "display_data"
    }
   ],
   "source": [
    "plt.plot(range(200),mse_hist)\n",
    "plt.xlabel(\"# Iteration\")\n",
    "plt.show()"
   ]
  },
  {
   "cell_type": "code",
   "execution_count": null,
   "metadata": {},
   "outputs": [],
   "source": [
    "from tqdm import trange\n",
    "for nIter in trange(11):\n",
    "    train_and_test(2**nIter, 0.001, 10, 10)"
   ]
  },
  {
   "cell_type": "code",
   "execution_count": 479,
   "metadata": {},
   "outputs": [
    {
     "data": {
      "text/plain": [
       "BernoulliRBM(learning_rate=0.01, n_components=512, n_iter=200, random_state=0)"
      ]
     },
     "execution_count": 479,
     "metadata": {},
     "output_type": "execute_result"
    }
   ],
   "source": [
    "best_rbm"
   ]
  },
  {
   "cell_type": "code",
   "execution_count": 489,
   "metadata": {},
   "outputs": [
    {
     "data": {
      "image/png": "[encoded data removed]",
      "text/plain": [
       "<Figure size 432x288 with 1 Axes>"
      ]
     },
     "metadata": {
      "needs_background": "light"
     },
     "output_type": "display_data"
    }
   ],
   "source": [
    "plt.plot([2**n for n in range(11)],mse_hist)\n",
    "plt.xlabel(\"n_components\")\n",
    "plt.show()"
   ]
  },
  {
   "cell_type": "code",
   "execution_count": 495,
   "metadata": {},
   "outputs": [
    {
     "data": {
      "text/plain": [
       "-250.76819731831986"
      ]
     },
     "execution_count": 495,
     "metadata": {},
     "output_type": "execute_result"
    }
   ],
   "source": [
    "np.mean(BernoulliRBM(learning_rate=0.01, n_components=1024, n_iter=200, random_state=0).fit(Xtr).score_samples(Xte))"
   ]
  },
  {
   "cell_type": "code",
   "execution_count": 496,
   "metadata": {},
   "outputs": [
    {
     "data": {
      "text/plain": [
       "-241.74383395452207"
      ]
     },
     "execution_count": 496,
     "metadata": {},
     "output_type": "execute_result"
    }
   ],
   "source": [
    "np.mean(BernoulliRBM(learning_rate=0.01, n_components=512, n_iter=200, random_state=0).fit(Xtr).score_samples(Xte))"
   ]
  },
  {
   "cell_type": "code",
   "execution_count": null,
   "metadata": {},
   "outputs": [],
   "source": [
    "from tqdm import trange\n",
    "for nIter in trange(200):\n",
    "    train_and_test(512, 0.001 + 0.001*nIter, 10, 10)"
   ]
  },
  {
   "cell_type": "code",
   "execution_count": 499,
   "metadata": {},
   "outputs": [
    {
     "data": {
      "text/plain": [
       "BernoulliRBM(learning_rate=0.2, n_components=512, random_state=0)"
      ]
     },
     "execution_count": 499,
     "metadata": {},
     "output_type": "execute_result"
    }
   ],
   "source": [
    "best_rbm"
   ]
  },
  {
   "cell_type": "code",
   "execution_count": 503,
   "metadata": {},
   "outputs": [
    {
     "data": {
      "image/png": "[encoded data removed]",
      "text/plain": [
       "<Figure size 432x288 with 1 Axes>"
      ]
     },
     "metadata": {
      "needs_background": "light"
     },
     "output_type": "display_data"
    }
   ],
   "source": [
    "plt.plot([0.001 + 0.001*nIter for nIter in range(200)],mse_hist)\n",
    "plt.xlabel(\"learning_rate\")\n",
    "plt.show()"
   ]
  },
  {
   "cell_type": "code",
   "execution_count": 506,
   "metadata": {},
   "outputs": [
    {
     "data": {
      "text/plain": [
       "-270.97961961083513"
      ]
     },
     "execution_count": 506,
     "metadata": {},
     "output_type": "execute_result"
    }
   ],
   "source": [
    "np.mean(best_rbm.fit(Xtr).score_samples(Xte))"
   ]
  },
  {
   "cell_type": "code",
   "execution_count": 529,
   "metadata": {},
   "outputs": [
    {
     "name": "stderr",
     "output_type": "stream",
     "text": [
      "100%|██████████| 100/100 [02:32<00:00,  1.52s/it]\n"
     ]
    }
   ],
   "source": [
    "rbm_hist = []\n",
    "mse_hist = []\n",
    "best_rbm = BernoulliRBM(verbose=0, random_state=0)\n",
    "from tqdm import trange\n",
    "for nIter in trange(100):\n",
    "    \n",
    "    a = train_and_test(16, 0.001, nIter+ 1, 10)"
   ]
  },
  {
   "cell_type": "code",
   "execution_count": 531,
   "metadata": {},
   "outputs": [
    {
     "data": {
      "image/png": "[encoded data removed]",
      "text/plain": [
       "<Figure size 432x288 with 1 Axes>"
      ]
     },
     "metadata": {
      "needs_background": "light"
     },
     "output_type": "display_data"
    }
   ],
   "source": [
    "plt.plot(range(100),mse_hist)\n",
    "plt.xlabel(\"batch size\")\n",
    "plt.show()"
   ]
  },
  {
   "cell_type": "code",
   "execution_count": null,
   "metadata": {},
   "outputs": [],
   "source": [
    "rbm_hist = []\n",
    "mse_hist = []\n",
    "best_rbm = BernoulliRBM(verbose=0, random_state=0)\n",
    "from tqdm import trange\n",
    "for nIter in trange(100):\n",
    "    for i in range(5):\n",
    "        for i in range()\n",
    "            a = train_and_test(16, 0.001, nIter+ 1, 10)"
   ]
  }
 ],
 "metadata": {
  "kernelspec": {
   "display_name": "Python 3",
   "language": "python",
   "name": "python3"
  },
  "language_info": {
   "codemirror_mode": {
    "name": "ipython",
    "version": 3
   },
   "file_extension": ".py",
   "mimetype": "text/x-python",
   "name": "python",
   "nbconvert_exporter": "python",
   "pygments_lexer": "ipython3",
   "version": "3.9.5"
  }
 },
 "nbformat": 4,
 "nbformat_minor": 4
}
